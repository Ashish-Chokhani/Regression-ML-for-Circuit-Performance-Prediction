{
 "cells": [
  {
   "cell_type": "code",
   "execution_count": 1,
   "metadata": {},
   "outputs": [],
   "source": [
    "import pandas as pd\n",
    "import re\n",
    "import numpy as np\n",
    "import random\n",
    "\n",
    "# Load parameters from file\n",
    "parameters = [\n",
    "    'toxe', 'toxm', 'toxref','toxp', 'xj', 'ndep'\n",
    "]"
   ]
  },
  {
   "cell_type": "markdown",
   "metadata": {},
   "source": [
    "### 1.1.3 Function to generate random values within specified ranges"
   ]
  },
  {
   "cell_type": "code",
   "execution_count": 2,
   "metadata": {},
   "outputs": [],
   "source": [
    "def generate_random_values():\n",
    "    # Supply voltage with ±10% variations\n",
    "    supply = random.uniform(0.9,1.1)\n",
    "    return supply"
   ]
  },
  {
   "cell_type": "code",
   "execution_count": 4,
   "metadata": {},
   "outputs": [],
   "source": [
    "# Define the number of samples\n",
    "num_samples = 10000\n",
    "lmin = 45\n",
    "wmin = 45\n",
    "\n",
    "# Read the PTM file\n",
    "with open(\"45nm_MGK.pm\", 'r') as file:\n",
    "    original_content = file.read()\n",
    "    \n",
    "temp_cqload_df=pd.read_csv('../Temp_Cqload.csv')\n",
    "\n",
    "# Extract nominal values for parameters\n",
    "nominal_values = {}\n",
    "for param in parameters:\n",
    "    original_values = re.findall(rf'\\b{param}\\s*=\\s*([\\d.e+-]+)', original_content)\n",
    "    nominal_values[param] = [float(value) for value in original_values]\n",
    "\n",
    "\n",
    "# Calculate standard deviation (std) for each parameter\n",
    "std_values = {key: [value / 30 for value in values] for key, values in nominal_values.items()}\n",
    "\n",
    "# Generate random samples with Monte Carlo distribution for parameters for NMOS and PMOS\n",
    "nmos_parameters=pmos_parameters=parameters\n",
    "\n",
    "nmos_samples_data = {param: np.random.normal(loc=nominal_values[param][0], scale=std_values[param][0], size=num_samples) for param in nmos_parameters}\n",
    "pmos_samples_data = {param: np.random.normal(loc=nominal_values[param][1], scale=std_values[param][1], size=num_samples) for param in pmos_parameters}\n",
    "\n",
    "# Calculate mean and std for lmin and wmin\n",
    "lmin_mean = 47\n",
    "lmin_std = lmin_mean / 30\n",
    "wmin_mean = 254\n",
    "wmin_std = wmin_mean / 30\n",
    "\n",
    "# Generate random samples for Lmin and Wmin with Monte Carlo distribution\n",
    "lmin_samples = np.random.normal(loc=lmin_mean, scale=lmin_std, size=num_samples)\n",
    "wmin_samples = np.random.normal(loc=wmin_mean, scale=wmin_std, size=num_samples)\n",
    "\n",
    "# Generate samples for temp, supply, and cqload\n",
    "temp_samples = []\n",
    "supply_samples = []\n",
    "cqload_samples = []\n",
    "for i in range(num_samples):\n",
    "    supply = generate_random_values()\n",
    "    temp_samples.append(temp_cqload_df['temp'][i])\n",
    "    supply_samples.append(supply)\n",
    "    cqload_samples.append(temp_cqload_df['cqload'][i])\n",
    "    \n",
    "temp_nmos_samples_data,temp_pmos_samples_data=nmos_samples_data,pmos_samples_data\n",
    "\n",
    "# Add '_n' suffix to keys in nmos_samples_data\n",
    "temp_nmos_samples_data = {key + '_n': value for key, value in temp_nmos_samples_data.items()}\n",
    "\n",
    "# Add '_p' suffix to keys in pmos_samples_data\n",
    "temp_pmos_samples_data = {key + '_p': value for key, value in temp_pmos_samples_data.items()}\n",
    "\n",
    "# Create a DataFrame\n",
    "df_samples = pd.DataFrame({\n",
    "    'lmin': lmin_samples,\n",
    "    'wmin': wmin_samples,\n",
    "    'temp': temp_samples,\n",
    "    'supply': supply_samples,\n",
    "    'cqload': cqload_samples,\n",
    "    **temp_nmos_samples_data,\n",
    "    **temp_pmos_samples_data\n",
    "})\n"
   ]
  },
  {
   "cell_type": "code",
   "execution_count": 6,
   "metadata": {},
   "outputs": [],
   "source": [
    "df_samples.to_csv('samples_45nm_MGK.csv')"
   ]
  }
 ],
 "metadata": {
  "kernelspec": {
   "display_name": "Python 3",
   "language": "python",
   "name": "python3"
  },
  "language_info": {
   "codemirror_mode": {
    "name": "ipython",
    "version": 3
   },
   "file_extension": ".py",
   "mimetype": "text/x-python",
   "name": "python",
   "nbconvert_exporter": "python",
   "pygments_lexer": "ipython3",
   "version": "3.8.10"
  }
 },
 "nbformat": 4,
 "nbformat_minor": 2
}
