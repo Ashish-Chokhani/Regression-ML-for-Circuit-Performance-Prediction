{
 "cells": [
  {
   "cell_type": "markdown",
   "metadata": {},
   "source": [
    "# Importing Libraries"
   ]
  },
  {
   "cell_type": "code",
   "execution_count": 1,
   "metadata": {},
   "outputs": [],
   "source": [
    "import pandas as pd\n",
    "import random\n",
    "import warnings\n",
    "warnings.filterwarnings('ignore') "
   ]
  },
  {
   "cell_type": "markdown",
   "metadata": {},
   "source": [
    "## 1.1 Functions"
   ]
  },
  {
   "cell_type": "markdown",
   "metadata": {},
   "source": [
    "### 1.1.3 Function to generate random values within specified ranges\n"
   ]
  },
  {
   "cell_type": "code",
   "execution_count": 2,
   "metadata": {},
   "outputs": [],
   "source": [
    "def generate_random_values():\n",
    "    # Temperature range from -55 to 125 Celsius\n",
    "    temp = random.uniform(-55, 125)\n",
    "    # Cqload variations from 0.01f to 5f\n",
    "    cqload = random.uniform(0.01, 5)\n",
    "    return temp,cqload"
   ]
  },
  {
   "cell_type": "code",
   "execution_count": 3,
   "metadata": {},
   "outputs": [],
   "source": [
    "# Define the number of samples\n",
    "num_samples = 10000\n",
    "\n",
    "# Generate samples for temp, supply, and cqload\n",
    "temp_samples = []\n",
    "\n",
    "cqload_samples = []\n",
    "for i in range(num_samples):\n",
    "    temp, cqload = generate_random_values()\n",
    "    temp_samples.append(temp)\n",
    "    cqload_samples.append(cqload)\n",
    "    \n",
    "# Create a DataFrame\n",
    "df_samples = pd.DataFrame({\n",
    "    'temp': temp_samples,\n",
    "    'cqload': cqload_samples\n",
    "})\n"
   ]
  },
  {
   "cell_type": "code",
   "execution_count": 4,
   "metadata": {},
   "outputs": [],
   "source": [
    "df_samples.to_csv('Temp_Cqload.csv')"
   ]
  },
  {
   "cell_type": "code",
   "execution_count": null,
   "metadata": {},
   "outputs": [],
   "source": []
  }
 ],
 "metadata": {
  "kernelspec": {
   "display_name": "Python 3",
   "language": "python",
   "name": "python3"
  },
  "language_info": {
   "codemirror_mode": {
    "name": "ipython",
    "version": 3
   },
   "file_extension": ".py",
   "mimetype": "text/x-python",
   "name": "python",
   "nbconvert_exporter": "python",
   "pygments_lexer": "ipython3",
   "version": "3.8.10"
  }
 },
 "nbformat": 4,
 "nbformat_minor": 2
}
